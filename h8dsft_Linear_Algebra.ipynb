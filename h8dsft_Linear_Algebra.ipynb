{
  "cells": [
    {
      "cell_type": "markdown",
      "metadata": {
        "id": "aRH_Kx4XbM52"
      },
      "source": [
        "#Import Libraries"
      ]
    },
    {
      "cell_type": "code",
      "execution_count": 2,
      "metadata": {
        "id": "3RvX0VnEVinU"
      },
      "outputs": [],
      "source": [
        "import numpy as np\n",
        "import pandas as pd\n",
        "import matplotlib.pyplot as plt"
      ]
    },
    {
      "cell_type": "markdown",
      "metadata": {
        "id": "xbjajmt-bW7S"
      },
      "source": [
        "#NGC 4"
      ]
    },
    {
      "cell_type": "markdown",
      "metadata": {
        "id": "RrG_Kz88SuyV"
      },
      "source": [
        "##1. Buatlah vektor di bawah ini dengan Python:"
      ]
    },
    {
      "cell_type": "code",
      "execution_count": 3,
      "metadata": {
        "colab": {
          "base_uri": "https://localhost:8080/"
        },
        "id": "rubiASuXRlgq",
        "outputId": "d5ea4ed0-8ce6-4c27-fecc-a5d6c67ce9e3"
      },
      "outputs": [
        {
          "data": {
            "text/plain": [
              "array([17, 22, 19])"
            ]
          },
          "execution_count": 3,
          "metadata": {},
          "output_type": "execute_result"
        }
      ],
      "source": [
        "q1 = np.array([17,22,19])\n",
        "q1"
      ]
    },
    {
      "cell_type": "markdown",
      "metadata": {
        "id": "FWUcWSO9S3ly"
      },
      "source": [
        "##2. Diberikan 3 buah vector 3 dimensi, hitunglah:"
      ]
    },
    {
      "cell_type": "code",
      "execution_count": 9,
      "metadata": {
        "colab": {
          "base_uri": "https://localhost:8080/"
        },
        "id": "qnTSU-XJSt-S",
        "outputId": "59a2b284-4d6e-43aa-9818-9ffaa73dff24"
      },
      "outputs": [
        {
          "name": "stdout",
          "output_type": "stream",
          "text": [
            "[27 42 30]\n",
            "[5 8 2]\n",
            "520\n",
            "[170 440 209]\n",
            "33.67491648096547\n",
            "0.21971776576153962\n"
          ]
        }
      ],
      "source": [
        "A = np.array([17,22,19])\n",
        "B = np.array([10,20,11])\n",
        "C = np.array([5,12,9])\n",
        "\n",
        "print(A+B)\n",
        "print(B-C)\n",
        "print(A@C)\n",
        "print(A*B)\n",
        "print(np.linalg.norm(A))\n",
        "print(np.arccos(A@B / ((np.linalg.norm(A)) * (np.linalg.norm(B)))))"
      ]
    },
    {
      "cell_type": "markdown",
      "metadata": {
        "id": "slHbldZsV4lx"
      },
      "source": [
        "##3. Buatlah plot dari vector berikut ini kedalam bidang 2D:"
      ]
    },
    {
      "cell_type": "code",
      "execution_count": 6,
      "metadata": {
        "colab": {
          "base_uri": "https://localhost:8080/",
          "height": 0
        },
        "id": "qmgk_FnTV4Uh",
        "outputId": "39197bb4-3247-4c31-df89-4bb2bd76116a"
      },
      "outputs": [
        {
          "data": {
            "image/png": "[encoded data removed]",
            "text/plain": [
              "<Figure size 432x288 with 1 Axes>"
            ]
          },
          "metadata": {
            "needs_background": "light"
          },
          "output_type": "display_data"
        }
      ],
      "source": [
        "u = np.array([2,5])\n",
        "v = np.array([3,1])\n",
        "\n",
        "def plot_vector2d(vector2d, origin=[0, 0], **options):\n",
        "    return plt.arrow(origin[0], origin[1], vector2d[0], vector2d[1],\n",
        "              head_width=0.2, head_length=0.3, length_includes_head=True,\n",
        "              **options)\n",
        "\n",
        "plot_vector2d(u, color='b')\n",
        "plot_vector2d(v, color='g')\n",
        "\n",
        "plt.axis([0, 7, 0, 5])\n",
        "plt.grid()\n",
        "plt.show()"
      ]
    },
    {
      "cell_type": "markdown",
      "metadata": {
        "id": "imEUNLXjbbjv"
      },
      "source": [
        "#NGC 5"
      ]
    },
    {
      "cell_type": "markdown",
      "metadata": {
        "id": "fKlT1HejbjQo"
      },
      "source": [
        "##1. Buatlah tensor di bawah ini dengan Python:"
      ]
    },
    {
      "cell_type": "code",
      "execution_count": 7,
      "metadata": {
        "colab": {
          "base_uri": "https://localhost:8080/"
        },
        "id": "ZuiDcavmb4IX",
        "outputId": "e777d387-ef73-4475-cc71-d5a253efef13"
      },
      "outputs": [
        {
          "data": {
            "text/plain": [
              "array([[[[23, 50],\n",
              "         [ 7, 12]],\n",
              "\n",
              "        [[57, 67],\n",
              "         [99, 43]]],\n",
              "\n",
              "\n",
              "       [[[75, 21],\n",
              "         [57, 12]],\n",
              "\n",
              "        [[87, 26],\n",
              "         [18, 84]]]])"
            ]
          },
          "execution_count": 7,
          "metadata": {},
          "output_type": "execute_result"
        }
      ],
      "source": [
        "K1 = np.array([[23,50],\n",
        "               [7,12]])\n",
        "K2 = np.array([[57,67],\n",
        "               [99,43]])\n",
        "K3 = np.array([[75,21],\n",
        "               [57,12]])\n",
        "K4 = np.array([[87,26],\n",
        "               [18,84]])\n",
        "\n",
        "tensor = np.array([[K1,K2],\n",
        "                  [K3,K4]])\n",
        "tensor"
      ]
    },
    {
      "cell_type": "markdown",
      "metadata": {
        "id": "otvcaJXrbk0G"
      },
      "source": [
        "##2. Lakukan perkalian terhadap matrix berikut: "
      ]
    },
    {
      "cell_type": "code",
      "execution_count": 8,
      "metadata": {
        "colab": {
          "base_uri": "https://localhost:8080/"
        },
        "id": "QZzFIp0AecWB",
        "outputId": "13e1cfc0-9e7f-4d90-ab83-d7690791c477"
      },
      "outputs": [
        {
          "name": "stdout",
          "output_type": "stream",
          "text": [
            "[[ 391 1100  361]\n",
            " [ 119  264 2071]\n",
            " [ 969 1474 1862]]\n"
          ]
        }
      ],
      "source": [
        "A = np.array([[23,50,19],\n",
        "              [7,12,109],\n",
        "              [57,67,98]])\n",
        "B = np.array([17,22,19])\n",
        "\n",
        "print(A*B)"
      ]
    },
    {
      "cell_type": "markdown",
      "metadata": {
        "id": "bX0mwdCwbmB2"
      },
      "source": [
        "#3.  Lakukan Transpose, hitung determinan, dan inverse terhadap matrix di bawah ini:"
      ]
    },
    {
      "cell_type": "code",
      "execution_count": 34,
      "metadata": {
        "colab": {
          "base_uri": "https://localhost:8080/"
        },
        "id": "74N2pOYAkdb6",
        "outputId": "0a419e6c-ab6b-4a49-efc9-a20347e6408b"
      },
      "outputs": [
        {
          "name": "stdout",
          "output_type": "stream",
          "text": [
            "[[ 23   7  57]\n",
            " [ 50  12  67]\n",
            " [ 19 109  98]]\n",
            "\n",
            "131344.0000000002\n",
            "\n",
            "[[-0.0466485  -0.02761451  0.03975819]\n",
            " [ 0.04208034  0.00891552 -0.01807467]\n",
            " [-0.00163692  0.0099662  -0.00056341]]\n"
          ]
        }
      ],
      "source": [
        "A = np.array([[23,50,19],\n",
        "              [7,12,109],\n",
        "              [57,67,98]])\n",
        "\n",
        "print(np.matrix.transpose(A))\n",
        "print('')\n",
        "print(np.linalg.det(A))\n",
        "print('')\n",
        "print((np.linalg.inv(A)))"
      ]
    }
  ],
  "metadata": {
    "colab": {
      "collapsed_sections": [
        "aRH_Kx4XbM52",
        "xbjajmt-bW7S",
        "slHbldZsV4lx",
        "imEUNLXjbbjv",
        "fKlT1HejbjQo",
        "otvcaJXrbk0G",
        "bX0mwdCwbmB2"
      ],
      "name": "h8dsft_Linear_Algebra.ipynb",
      "provenance": []
    },
    "kernelspec": {
      "display_name": "Python 3.9.12 ('base')",
      "language": "python",
      "name": "python3"
    },
    "language_info": {
      "codemirror_mode": {
        "name": "ipython",
        "version": 3
      },
      "file_extension": ".py",
      "mimetype": "text/x-python",
      "name": "python",
      "nbconvert_exporter": "python",
      "pygments_lexer": "ipython3",
      "version": "3.9.12"
    },
    "vscode": {
      "interpreter": {
        "hash": "8729cc833bbf327f7266d01ded31405701701a7d3e257bb9fce582aaef9de1ab"
      }
    }
  },
  "nbformat": 4,
  "nbformat_minor": 0
}
