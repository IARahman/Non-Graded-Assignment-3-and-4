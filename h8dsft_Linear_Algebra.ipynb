{
  "nbformat": 4,
  "nbformat_minor": 0,
  "metadata": {
    "colab": {
      "name": "h8dsft_Linear_Algebra.ipynb",
      "provenance": [],
      "collapsed_sections": [
        "aRH_Kx4XbM52",
        "xbjajmt-bW7S",
        "slHbldZsV4lx",
        "imEUNLXjbbjv",
        "fKlT1HejbjQo",
        "otvcaJXrbk0G",
        "bX0mwdCwbmB2"
      ]
    },
    "kernelspec": {
      "name": "python3",
      "display_name": "Python 3"
    },
    "language_info": {
      "name": "python"
    }
  },
  "cells": [
    {
      "cell_type": "markdown",
      "source": [
        "#Import Libraries"
      ],
      "metadata": {
        "id": "aRH_Kx4XbM52"
      }
    },
    {
      "cell_type": "code",
      "source": [
        "import numpy as np\n",
        "import pandas as pd\n",
        "import matplotlib.pyplot as plt"
      ],
      "metadata": {
        "id": "3RvX0VnEVinU"
      },
      "execution_count": 8,
      "outputs": []
    },
    {
      "cell_type": "markdown",
      "source": [
        "#NGC 4"
      ],
      "metadata": {
        "id": "xbjajmt-bW7S"
      }
    },
    {
      "cell_type": "markdown",
      "source": [
        "##1. Buatlah vektor di bawah ini dengan Python:"
      ],
      "metadata": {
        "id": "RrG_Kz88SuyV"
      }
    },
    {
      "cell_type": "code",
      "execution_count": 20,
      "metadata": {
        "colab": {
          "base_uri": "https://localhost:8080/"
        },
        "id": "rubiASuXRlgq",
        "outputId": "d5ea4ed0-8ce6-4c27-fecc-a5d6c67ce9e3"
      },
      "outputs": [
        {
          "output_type": "execute_result",
          "data": {
            "text/plain": [
              "array([17, 22, 19])"
            ]
          },
          "metadata": {},
          "execution_count": 20
        }
      ],
      "source": [
        "q1 = np.array([17,22,19])\n",
        "q1"
      ]
    },
    {
      "cell_type": "markdown",
      "source": [
        "##2. Diberikan 3 buah vector 3 dimensi, hitunglah:"
      ],
      "metadata": {
        "id": "FWUcWSO9S3ly"
      }
    },
    {
      "cell_type": "code",
      "source": [
        "A = np.array([17,22,19])\n",
        "B = np.array([10,20,11])\n",
        "C = np.array([5,12,9])\n",
        "\n",
        "print(A+B)\n",
        "print(B-C)\n",
        "print(A@C)\n",
        "print(A*B)\n",
        "print(np.linalg.norm(A))\n",
        "print(A@B / ((np.linalg.norm(A)) * (np.linalg.norm(B))))"
      ],
      "metadata": {
        "colab": {
          "base_uri": "https://localhost:8080/"
        },
        "id": "qnTSU-XJSt-S",
        "outputId": "59a2b284-4d6e-43aa-9818-9ffaa73dff24"
      },
      "execution_count": 21,
      "outputs": [
        {
          "output_type": "stream",
          "name": "stdout",
          "text": [
            "[27 42 30]\n",
            "[5 8 2]\n",
            "520\n",
            "[170 440 209]\n",
            "33.67491648096547\n",
            "0.9759590023331435\n"
          ]
        }
      ]
    },
    {
      "cell_type": "markdown",
      "source": [
        "##3. Buatlah plot dari vector berikut ini kedalam bidang 2D:"
      ],
      "metadata": {
        "id": "slHbldZsV4lx"
      }
    },
    {
      "cell_type": "code",
      "source": [
        "u = np.array([2,5])\n",
        "v = np.array([3,1])\n",
        "\n",
        "def plot_vector2d(vector2d, origin=[0, 0], **options):\n",
        "    return plt.arrow(origin[0], origin[1], vector2d[0], vector2d[1],\n",
        "              head_width=0.2, head_length=0.3, length_includes_head=True,\n",
        "              **options)\n",
        "\n",
        "plot_vector2d(u, color='B')\n",
        "plot_vector2d(v, color='g')\n",
        "\n",
        "plt.axis([0, 7, 0, 5])\n",
        "plt.grid()\n",
        "plt.show()"
      ],
      "metadata": {
        "colab": {
          "base_uri": "https://localhost:8080/",
          "height": 0
        },
        "id": "qmgk_FnTV4Uh",
        "outputId": "39197bb4-3247-4c31-df89-4bb2bd76116a"
      },
      "execution_count": 22,
      "outputs": [
        {
          "output_type": "display_data",
          "data": {
            "text/plain": [
              "<Figure size 432x288 with 1 Axes>"
            ],
            "image/png": "[encoded data removed]"
          },
          "metadata": {
            "needs_background": "light"
          }
        }
      ]
    },
    {
      "cell_type": "markdown",
      "source": [
        ""
      ],
      "metadata": {
        "id": "Gsf819gGZ11H"
      }
    },
    {
      "cell_type": "markdown",
      "source": [
        ""
      ],
      "metadata": {
        "id": "yw5TLdcnbaSd"
      }
    },
    {
      "cell_type": "markdown",
      "source": [
        "#NGC 5"
      ],
      "metadata": {
        "id": "imEUNLXjbbjv"
      }
    },
    {
      "cell_type": "markdown",
      "source": [
        "##1. Buatlah tensor di bawah ini dengan Python:"
      ],
      "metadata": {
        "id": "fKlT1HejbjQo"
      }
    },
    {
      "cell_type": "code",
      "source": [
        "K1 = np.array([[23,50],\n",
        "               [7,12]])\n",
        "K2 = np.array([[57,67],\n",
        "               [99,43]])\n",
        "K3 = np.array([[75,21],\n",
        "               [57,12]])\n",
        "K4 = np.array([[87,26],\n",
        "               [18,84]])\n",
        "\n",
        "tensor = np.array([[K1,K2],\n",
        "                  [K3,K4]])\n",
        "tensor"
      ],
      "metadata": {
        "colab": {
          "base_uri": "https://localhost:8080/"
        },
        "id": "ZuiDcavmb4IX",
        "outputId": "e777d387-ef73-4475-cc71-d5a253efef13"
      },
      "execution_count": 17,
      "outputs": [
        {
          "output_type": "execute_result",
          "data": {
            "text/plain": [
              "array([[[[23, 50],\n",
              "         [ 7, 12]],\n",
              "\n",
              "        [[57, 67],\n",
              "         [99, 43]]],\n",
              "\n",
              "\n",
              "       [[[75, 21],\n",
              "         [57, 12]],\n",
              "\n",
              "        [[87, 26],\n",
              "         [18, 84]]]])"
            ]
          },
          "metadata": {},
          "execution_count": 17
        }
      ]
    },
    {
      "cell_type": "markdown",
      "source": [
        "##2. Lakukan perkalian terhadap matrix berikut: "
      ],
      "metadata": {
        "id": "otvcaJXrbk0G"
      }
    },
    {
      "cell_type": "code",
      "source": [
        "A = np.array([[23,50,19],\n",
        "              [7,12,109],\n",
        "              [57,67,98]])\n",
        "B = np.array([17,22,19])\n",
        "\n",
        "print(A*B)"
      ],
      "metadata": {
        "colab": {
          "base_uri": "https://localhost:8080/"
        },
        "id": "QZzFIp0AecWB",
        "outputId": "13e1cfc0-9e7f-4d90-ab83-d7690791c477"
      },
      "execution_count": 24,
      "outputs": [
        {
          "output_type": "stream",
          "name": "stdout",
          "text": [
            "[[ 391 1100  361]\n",
            " [ 119  264 2071]\n",
            " [ 969 1474 1862]]\n"
          ]
        }
      ]
    },
    {
      "cell_type": "markdown",
      "source": [
        "#3.  Lakukan Transpose, hitung determinan, dan inverse terhadap matrix di bawah ini:"
      ],
      "metadata": {
        "id": "bX0mwdCwbmB2"
      }
    },
    {
      "cell_type": "code",
      "source": [
        "A = np.array([[23,50,19],\n",
        "              [7,12,109],\n",
        "              [57,67,98]])\n",
        "\n",
        "print(np.matrix.transpose(A))\n",
        "print('')\n",
        "print(np.linalg.det(A))\n",
        "print('')\n",
        "print(np.linalg.inv(A))"
      ],
      "metadata": {
        "colab": {
          "base_uri": "https://localhost:8080/"
        },
        "id": "74N2pOYAkdb6",
        "outputId": "0a419e6c-ab6b-4a49-efc9-a20347e6408b"
      },
      "execution_count": 34,
      "outputs": [
        {
          "output_type": "stream",
          "name": "stdout",
          "text": [
            "[[ 23   7  57]\n",
            " [ 50  12  67]\n",
            " [ 19 109  98]]\n",
            "\n",
            "131344.0000000002\n",
            "\n",
            "[[-0.0466485  -0.02761451  0.03975819]\n",
            " [ 0.04208034  0.00891552 -0.01807467]\n",
            " [-0.00163692  0.0099662  -0.00056341]]\n"
          ]
        }
      ]
    }
  ]
}